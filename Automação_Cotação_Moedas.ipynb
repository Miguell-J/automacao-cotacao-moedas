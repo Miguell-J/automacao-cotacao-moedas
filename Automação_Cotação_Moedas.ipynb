{
 "cells": [
  {
   "cell_type": "code",
   "execution_count": 4,
   "id": "8631b1da",
   "metadata": {},
   "outputs": [],
   "source": [
    "import selenium\n",
    "from selenium import webdriver\n",
    "from selenium.webdriver.common.keys import Keys\n",
    "from selenium.webdriver.common.by import By\n",
    "import time"
   ]
  },
  {
   "cell_type": "code",
   "execution_count": 24,
   "id": "3b9f68d4",
   "metadata": {},
   "outputs": [
    {
     "name": "stdout",
     "output_type": "stream",
     "text": [
      "Cotação dólar: 5.0356 \n",
      " Cotação euro: 5.326758392 \n",
      " Cotação libra: 6.116217\n"
     ]
    }
   ],
   "source": [
    "driver = webdriver.Chrome()\n",
    "\n",
    "driver.get(\"https://www.google.com/\")\n",
    "time.sleep(2)\n",
    "driver.find_element(By.XPATH,'//*[@id=\"APjFqb\"]').send_keys(\"Cotação dólar\")\n",
    "time.sleep(2)\n",
    "driver.find_element(By.XPATH,'//*[@id=\"APjFqb\"]').send_keys(Keys.ENTER)\n",
    "\n",
    "time.sleep(2)\n",
    "cotacao_dolar = driver.find_element(By.XPATH,'//*[@id=\"knowledge-currency__updatable-data-column\"]/div[1]/div[2]/span[1]').get_attribute('data-value')\n",
    "time.sleep(1)\n",
    "\n",
    "driver.get(\"https://www.google.com/\")\n",
    "driver.find_element(By.XPATH,'//*[@id=\"APjFqb\"]').send_keys(\"Cotação euro\")\n",
    "time.sleep(2)\n",
    "driver.find_element(By.XPATH,'//*[@id=\"APjFqb\"]').send_keys(Keys.ENTER)\n",
    "\n",
    "time.sleep(2)\n",
    "cotacao_euro = driver.find_element(By.XPATH,'//*[@id=\"knowledge-currency__updatable-data-column\"]/div[1]/div[2]/span[1]').get_attribute('data-value')\n",
    "\n",
    "\n",
    "driver.get(\"https://www.google.com/\")\n",
    "driver.find_element(By.XPATH,'//*[@id=\"APjFqb\"]').send_keys(\"Cotação libra\")\n",
    "time.sleep(2)\n",
    "driver.find_element(By.XPATH,'//*[@id=\"APjFqb\"]').send_keys(Keys.ENTER)\n",
    "\n",
    "time.sleep(2)\n",
    "cotacao_lib = driver.find_element(By.XPATH,'//*[@id=\"knowledge-currency__updatable-data-column\"]/div[1]/div[2]/span[1]').get_attribute('data-value')\n",
    "time.sleep(1)\n",
    "\n",
    "print(\"Cotação dólar: {} \\n Cotação euro: {} \\n Cotação libra: {}\".format(cotacao_dolar, cotacao_euro, cotacao_lib))"
   ]
  }
 ],
 "metadata": {
  "kernelspec": {
   "display_name": "Python 3 (ipykernel)",
   "language": "python",
   "name": "python3"
  },
  "language_info": {
   "codemirror_mode": {
    "name": "ipython",
    "version": 3
   },
   "file_extension": ".py",
   "mimetype": "text/x-python",
   "name": "python",
   "nbconvert_exporter": "python",
   "pygments_lexer": "ipython3",
   "version": "3.7.16"
  }
 },
 "nbformat": 4,
 "nbformat_minor": 5
}
